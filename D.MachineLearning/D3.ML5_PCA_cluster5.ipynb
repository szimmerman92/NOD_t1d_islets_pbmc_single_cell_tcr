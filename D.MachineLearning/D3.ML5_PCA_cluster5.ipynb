{
 "cells": [
  {
   "cell_type": "code",
   "execution_count": 1,
   "id": "e4ca658f-b970-4aa1-ae7f-1948f38655d5",
   "metadata": {},
   "outputs": [],
   "source": [
    "from __future__ import division\n",
    "import numpy as np\n",
    "import sys\n",
    "from sklearn.decomposition import PCA\n",
    "import math\n",
    "import matplotlib.pyplot as plt\n",
    "from sklearn.metrics import precision_recall_curve, auc, roc_auc_score\n",
    "from sklearn.model_selection import KFold\n",
    "from sklearn.linear_model import LogisticRegression\n",
    "from sklearn.linear_model import LogisticRegressionCV\n",
    "from sklearn.ensemble import RandomForestClassifier\n",
    "from sklearn.metrics import roc_curve\n",
    "from sklearn.preprocessing import StandardScaler\n",
    "import pandas as pd\n",
    "from sklearn.model_selection import train_test_split\n",
    "from scipy.stats import logistic\n",
    "import statsmodels.api as sm\n",
    "import statsmodels.formula.api as smf\n"
   ]
  },
  {
   "cell_type": "code",
   "execution_count": 2,
   "id": "5eb7d856-84be-4cf1-b7fb-8e2ec831c56b",
   "metadata": {},
   "outputs": [],
   "source": [
    "# read in metadata\n",
    "metadata = pd.read_csv(\"data/Integratedpbmc_cluster5_metadata.csv\",index_col=0)\n"
   ]
  },
  {
   "cell_type": "code",
   "execution_count": 3,
   "id": "d5785cee-b734-460b-866c-46c9ff034a5f",
   "metadata": {},
   "outputs": [],
   "source": [
    "# read in integrated data\n",
    "integrated_data = pd.read_csv(\"data/Integratedpbmc_cluster5_RNA_rawcounts.csv\",index_col=0)\n",
    "# remove 0s\n",
    "integrated_data = integrated_data + 1\n",
    "integrated_data_scaled = integrated_data.apply(lambda x: x/x.sum(), axis=1)\n",
    "# extract clone size\n",
    "clone_sizes = metadata[['Clone.size']]\n",
    "clone_sizes = clone_sizes + 1\n",
    "# add metadata column\n",
    "integrated_data_scaled = integrated_data_scaled.append(clone_sizes.T)\n",
    "# now log normalize\n",
    "integrated_data_scaled_log = integrated_data_scaled.apply(lambda x: np.log(x),axis=1)"
   ]
  },
  {
   "cell_type": "code",
   "execution_count": 4,
   "id": "99b8c034-ca21-4515-85db-94176e240235",
   "metadata": {},
   "outputs": [],
   "source": [
    "# create my y variable I want to predict. 1 means matching. 0 is not matching\n",
    "isMatching = []\n",
    "for index, value in metadata['Matching'].items():\n",
    "    if '_pbmc_matching' in value:\n",
    "        isMatching.append(1)\n",
    "    else:\n",
    "        isMatching.append(0)\n",
    "isMatching_np = np.array(isMatching)"
   ]
  },
  {
   "cell_type": "code",
   "execution_count": 5,
   "id": "f374b417-c0b7-40f6-b977-a387abfa7616",
   "metadata": {},
   "outputs": [],
   "source": [
    "# now do PCA\n",
    "pca = PCA(n_components=int(100))\n",
    "transformed = pca.fit_transform(integrated_data_scaled_log.T)\n",
    "\n"
   ]
  },
  {
   "cell_type": "code",
   "execution_count": 6,
   "id": "4cd18e41-da2e-4cc5-9d42-edd4167aaec6",
   "metadata": {},
   "outputs": [
    {
     "data": {
      "text/plain": [
       "<matplotlib.legend.Legend at 0x184f74fa0>"
      ]
     },
     "execution_count": 6,
     "metadata": {},
     "output_type": "execute_result"
    },
    {
     "data": {
      "image/png": "[encoded data removed]",
      "text/plain": [
       "<Figure size 720x360 with 1 Axes>"
      ]
     },
     "metadata": {
      "needs_background": "light"
     },
     "output_type": "display_data"
    }
   ],
   "source": [
    "# plot PCA of first 2 PCs and color by matching or non matching\n",
    "f, axes = plt.subplots(ncols=1, figsize=(10, 5))\n",
    "axes.scatter(transformed[isMatching_np==0,0], transformed[isMatching_np==0,1], color='blue', s=2, label='y=0')\n",
    "axes.scatter(transformed[isMatching_np==1,0], transformed[isMatching_np==1,1], color='red', s=2, label='y=1')\n",
    "axes.set_xlabel('PC1')\n",
    "axes.set_ylabel('PC2')\n",
    "axes.legend(loc='lower left', fontsize='small')\n",
    "\n"
   ]
  },
  {
   "cell_type": "code",
   "execution_count": 7,
   "id": "9c710b6e-6146-479e-baa3-889194a915c8",
   "metadata": {},
   "outputs": [
    {
     "data": {
      "text/html": [
       "<div>\n",
       "<style scoped>\n",
       "    .dataframe tbody tr th:only-of-type {\n",
       "        vertical-align: middle;\n",
       "    }\n",
       "\n",
       "    .dataframe tbody tr th {\n",
       "        vertical-align: top;\n",
       "    }\n",
       "\n",
       "    .dataframe thead th {\n",
       "        text-align: right;\n",
       "    }\n",
       "</style>\n",
       "<table border=\"1\" class=\"dataframe\">\n",
       "  <thead>\n",
       "    <tr style=\"text-align: right;\">\n",
       "      <th>Predicted Class</th>\n",
       "      <th>0</th>\n",
       "      <th>1</th>\n",
       "    </tr>\n",
       "    <tr>\n",
       "      <th>Actual Class</th>\n",
       "      <th></th>\n",
       "      <th></th>\n",
       "    </tr>\n",
       "  </thead>\n",
       "  <tbody>\n",
       "    <tr>\n",
       "      <th>0</th>\n",
       "      <td>380</td>\n",
       "      <td>68</td>\n",
       "    </tr>\n",
       "    <tr>\n",
       "      <th>1</th>\n",
       "      <td>25</td>\n",
       "      <td>48</td>\n",
       "    </tr>\n",
       "  </tbody>\n",
       "</table>\n",
       "</div>"
      ],
      "text/plain": [
       "Predicted Class    0   1\n",
       "Actual Class            \n",
       "0                380  68\n",
       "1                 25  48"
      ]
     },
     "metadata": {},
     "output_type": "display_data"
    },
    {
     "data": {
      "text/html": [
       "<div>\n",
       "<style scoped>\n",
       "    .dataframe tbody tr th:only-of-type {\n",
       "        vertical-align: middle;\n",
       "    }\n",
       "\n",
       "    .dataframe tbody tr th {\n",
       "        vertical-align: top;\n",
       "    }\n",
       "\n",
       "    .dataframe thead th {\n",
       "        text-align: right;\n",
       "    }\n",
       "</style>\n",
       "<table border=\"1\" class=\"dataframe\">\n",
       "  <thead>\n",
       "    <tr style=\"text-align: right;\">\n",
       "      <th>Predicted Class</th>\n",
       "      <th>0</th>\n",
       "      <th>1</th>\n",
       "    </tr>\n",
       "    <tr>\n",
       "      <th>Actual Class</th>\n",
       "      <th></th>\n",
       "      <th></th>\n",
       "    </tr>\n",
       "  </thead>\n",
       "  <tbody>\n",
       "    <tr>\n",
       "      <th>0</th>\n",
       "      <td>347</td>\n",
       "      <td>91</td>\n",
       "    </tr>\n",
       "    <tr>\n",
       "      <th>1</th>\n",
       "      <td>14</td>\n",
       "      <td>68</td>\n",
       "    </tr>\n",
       "  </tbody>\n",
       "</table>\n",
       "</div>"
      ],
      "text/plain": [
       "Predicted Class    0   1\n",
       "Actual Class            \n",
       "0                347  91\n",
       "1                 14  68"
      ]
     },
     "metadata": {},
     "output_type": "display_data"
    },
    {
     "data": {
      "text/html": [
       "<div>\n",
       "<style scoped>\n",
       "    .dataframe tbody tr th:only-of-type {\n",
       "        vertical-align: middle;\n",
       "    }\n",
       "\n",
       "    .dataframe tbody tr th {\n",
       "        vertical-align: top;\n",
       "    }\n",
       "\n",
       "    .dataframe thead th {\n",
       "        text-align: right;\n",
       "    }\n",
       "</style>\n",
       "<table border=\"1\" class=\"dataframe\">\n",
       "  <thead>\n",
       "    <tr style=\"text-align: right;\">\n",
       "      <th>Predicted Class</th>\n",
       "      <th>0</th>\n",
       "      <th>1</th>\n",
       "    </tr>\n",
       "    <tr>\n",
       "      <th>Actual Class</th>\n",
       "      <th></th>\n",
       "      <th></th>\n",
       "    </tr>\n",
       "  </thead>\n",
       "  <tbody>\n",
       "    <tr>\n",
       "      <th>0</th>\n",
       "      <td>363</td>\n",
       "      <td>86</td>\n",
       "    </tr>\n",
       "    <tr>\n",
       "      <th>1</th>\n",
       "      <td>8</td>\n",
       "      <td>63</td>\n",
       "    </tr>\n",
       "  </tbody>\n",
       "</table>\n",
       "</div>"
      ],
      "text/plain": [
       "Predicted Class    0   1\n",
       "Actual Class            \n",
       "0                363  86\n",
       "1                  8  63"
      ]
     },
     "metadata": {},
     "output_type": "display_data"
    },
    {
     "data": {
      "text/html": [
       "<div>\n",
       "<style scoped>\n",
       "    .dataframe tbody tr th:only-of-type {\n",
       "        vertical-align: middle;\n",
       "    }\n",
       "\n",
       "    .dataframe tbody tr th {\n",
       "        vertical-align: top;\n",
       "    }\n",
       "\n",
       "    .dataframe thead th {\n",
       "        text-align: right;\n",
       "    }\n",
       "</style>\n",
       "<table border=\"1\" class=\"dataframe\">\n",
       "  <thead>\n",
       "    <tr style=\"text-align: right;\">\n",
       "      <th>Predicted Class</th>\n",
       "      <th>0</th>\n",
       "      <th>1</th>\n",
       "    </tr>\n",
       "    <tr>\n",
       "      <th>Actual Class</th>\n",
       "      <th></th>\n",
       "      <th></th>\n",
       "    </tr>\n",
       "  </thead>\n",
       "  <tbody>\n",
       "    <tr>\n",
       "      <th>0</th>\n",
       "      <td>360</td>\n",
       "      <td>76</td>\n",
       "    </tr>\n",
       "    <tr>\n",
       "      <th>1</th>\n",
       "      <td>15</td>\n",
       "      <td>69</td>\n",
       "    </tr>\n",
       "  </tbody>\n",
       "</table>\n",
       "</div>"
      ],
      "text/plain": [
       "Predicted Class    0   1\n",
       "Actual Class            \n",
       "0                360  76\n",
       "1                 15  69"
      ]
     },
     "metadata": {},
     "output_type": "display_data"
    },
    {
     "data": {
      "text/html": [
       "<div>\n",
       "<style scoped>\n",
       "    .dataframe tbody tr th:only-of-type {\n",
       "        vertical-align: middle;\n",
       "    }\n",
       "\n",
       "    .dataframe tbody tr th {\n",
       "        vertical-align: top;\n",
       "    }\n",
       "\n",
       "    .dataframe thead th {\n",
       "        text-align: right;\n",
       "    }\n",
       "</style>\n",
       "<table border=\"1\" class=\"dataframe\">\n",
       "  <thead>\n",
       "    <tr style=\"text-align: right;\">\n",
       "      <th>Predicted Class</th>\n",
       "      <th>0</th>\n",
       "      <th>1</th>\n",
       "    </tr>\n",
       "    <tr>\n",
       "      <th>Actual Class</th>\n",
       "      <th></th>\n",
       "      <th></th>\n",
       "    </tr>\n",
       "  </thead>\n",
       "  <tbody>\n",
       "    <tr>\n",
       "      <th>0</th>\n",
       "      <td>357</td>\n",
       "      <td>74</td>\n",
       "    </tr>\n",
       "    <tr>\n",
       "      <th>1</th>\n",
       "      <td>15</td>\n",
       "      <td>74</td>\n",
       "    </tr>\n",
       "  </tbody>\n",
       "</table>\n",
       "</div>"
      ],
      "text/plain": [
       "Predicted Class    0   1\n",
       "Actual Class            \n",
       "0                357  74\n",
       "1                 15  74"
      ]
     },
     "metadata": {},
     "output_type": "display_data"
    },
    {
     "data": {
      "text/plain": [
       "<matplotlib.legend.Legend at 0x18668bfa0>"
      ]
     },
     "execution_count": 7,
     "metadata": {},
     "output_type": "execute_result"
    },
    {
     "data": {
      "image/png": "[encoded data removed]",
      "text/plain": [
       "<Figure size 720x360 with 2 Axes>"
      ]
     },
     "metadata": {
      "needs_background": "light"
     },
     "output_type": "display_data"
    }
   ],
   "source": [
    "# we are going to do logistic regression to make predictions with a lasso penalty\n",
    "predictor = LogisticRegression(random_state=0,max_iter=1000,solver='liblinear',penalty=\"l1\",C=.1,class_weight='balanced')\n",
    "FOLDS = 5\n",
    "# split data into 5 pieces\n",
    "k_fold = KFold(n_splits=FOLDS, shuffle=True, random_state=32)\n",
    "f, axes = plt.subplots(1, 2, figsize=(10, 5))\n",
    "# store results in these arrays\n",
    "y_real = []\n",
    "y_proba = []\n",
    "y_pred = []\n",
    "# for each piece\n",
    "for i, (train_index, test_index) in enumerate(k_fold.split(transformed)):\n",
    "    # get training and test data\n",
    "    Xtrain, Xtest = transformed[train_index], transformed[test_index]\n",
    "    ytrain, ytest = isMatching_np[train_index], isMatching_np[test_index]\n",
    "    # fit on train data\n",
    "    predictor.fit(Xtrain, ytrain)\n",
    "    # get prediction probabilities on test data\n",
    "    pred_proba = predictor.predict_proba(Xtest)\n",
    "    # get predictions, matching or non matching\n",
    "    pred = predictor.predict(Xtest)\n",
    "    # calculate precision and recall\n",
    "    precision, recall, _ = precision_recall_curve(ytest, pred_proba[:,1])\n",
    "    # calculate false positive and true positive rate\n",
    "    fpr, tpr, _ = roc_curve(ytest, pred_proba[:,1])\n",
    "    # make labels for plots\n",
    "    lab = 'Fold %d AUPRC=%.4f' % (i+1, auc(recall, precision))\n",
    "    lab2 = 'Fold %d AUC=%.4f' % (i+1, roc_auc_score(ytest, pred_proba[:,1]))\n",
    "    # plot the individual recall-precision and AUC curves for each K fold\n",
    "    axes[1].step(recall, precision, label=lab)\n",
    "    axes[0].step(fpr, tpr, label=lab2)\n",
    "    y_real.append(ytest)\n",
    "    y_proba.append(pred_proba[:,1])\n",
    "    y_pred.append(pred)\n",
    "    # output confusion matrix that shows the predicted class and the actual class to see what we got right and wrong\n",
    "    confusion_mat = pd.crosstab(\n",
    "    ytest.flatten(), \n",
    "    pred.flatten(), \n",
    "    rownames=['Actual Class'], \n",
    "    colnames=['Predicted Class'],\n",
    "    )\n",
    "    display(confusion_mat)\n",
    "\n",
    "\n",
    "\n",
    "y_real = np.concatenate(y_real) \n",
    "y_proba = np.concatenate(y_proba)\n",
    "y_pred = np.concatenate(y_pred)\n",
    "# get overall precision and recall\n",
    "precision, recall, _ = precision_recall_curve(y_real, y_proba)\n",
    "# get overall false and true positive rates\n",
    "fpr, tpr, _ = roc_curve(y_real, y_proba)\n",
    "lab = 'Overall AUPRC=%.4f' % (auc(recall, precision))\n",
    "lab2 = 'Overall AUC=%.4f' % (roc_auc_score(y_real, y_proba))\n",
    "# plot overall precision recall curve\n",
    "axes[1].step(recall, precision, lw=2,label=lab, color='black')\n",
    "# make a dotted line illustrating what would happen if our ML algorithm had no skill\n",
    "no_skill = len(y_real[y_real==1]) / len(y_real)\n",
    "plt.plot([0, 1], [no_skill, no_skill], linestyle='--', label='No Skill')\n",
    "axes[1].set_xlabel('Recall')\n",
    "axes[1].set_ylabel('Precision')\n",
    "axes[1].legend(loc='lower left', fontsize='small')\n",
    "# now plot overall AUC curve\n",
    "axes[0].step(fpr, tpr, label=lab2, lw=2, color='black')\n",
    "dotted_line_coords=np.arange(0,100)/100\n",
    "axes[0].plot(dotted_line_coords,dotted_line_coords,'--',color=\"gray\",alpha=0.3,label='No Skill')\n",
    "axes[0].set_xlabel('FPR')\n",
    "axes[0].set_ylabel('TPR')\n",
    "axes[0].legend(loc='lower right', fontsize='small')\n",
    "\n",
    "\n"
   ]
  },
  {
   "cell_type": "code",
   "execution_count": 8,
   "id": "448815bd-7024-4c82-9ed2-1ae25b50855f",
   "metadata": {},
   "outputs": [],
   "source": [
    "f.tight_layout()\n",
    "output_pdf = \"cluster_5_PCA_ML_res.pdf\"\n",
    "f.savefig(output_pdf)\n"
   ]
  },
  {
   "cell_type": "code",
   "execution_count": 9,
   "id": "94afc638-a41d-4efb-a784-b045e49a829b",
   "metadata": {},
   "outputs": [],
   "source": [
    "# do a version where we use all our data and use the best l1 penalty from cross validation. not used in manuscript\n",
    "X_train, X_test, y_train, y_test = train_test_split(transformed, isMatching_np, test_size=0.30, random_state=42)\n",
    "\n",
    "model2 = LogisticRegressionCV(cv=3, random_state=0,penalty='l1',Cs=[1e-4,1e-3,1e-2,1e-1,1e0,1e1,1e2,1e3,1e4],solver='liblinear').fit(X_train, y_train)"
   ]
  },
  {
   "cell_type": "code",
   "execution_count": 10,
   "id": "83005861-affd-4e72-9f0e-a1d9c7e3d501",
   "metadata": {},
   "outputs": [
    {
     "name": "stdout",
     "output_type": "stream",
     "text": [
      "0.9054945054945055\n",
      "0.9039692701664532\n",
      "[0.1]\n"
     ]
    },
    {
     "data": {
      "text/html": [
       "<div>\n",
       "<style scoped>\n",
       "    .dataframe tbody tr th:only-of-type {\n",
       "        vertical-align: middle;\n",
       "    }\n",
       "\n",
       "    .dataframe tbody tr th {\n",
       "        vertical-align: top;\n",
       "    }\n",
       "\n",
       "    .dataframe thead th {\n",
       "        text-align: right;\n",
       "    }\n",
       "</style>\n",
       "<table border=\"1\" class=\"dataframe\">\n",
       "  <thead>\n",
       "    <tr style=\"text-align: right;\">\n",
       "      <th>Predicted Class</th>\n",
       "      <th>0</th>\n",
       "      <th>1</th>\n",
       "    </tr>\n",
       "    <tr>\n",
       "      <th>Actual Class</th>\n",
       "      <th></th>\n",
       "      <th></th>\n",
       "    </tr>\n",
       "  </thead>\n",
       "  <tbody>\n",
       "    <tr>\n",
       "      <th>0</th>\n",
       "      <td>651</td>\n",
       "      <td>8</td>\n",
       "    </tr>\n",
       "    <tr>\n",
       "      <th>1</th>\n",
       "      <td>67</td>\n",
       "      <td>55</td>\n",
       "    </tr>\n",
       "  </tbody>\n",
       "</table>\n",
       "</div>"
      ],
      "text/plain": [
       "Predicted Class    0   1\n",
       "Actual Class            \n",
       "0                651   8\n",
       "1                 67  55"
      ]
     },
     "metadata": {},
     "output_type": "display_data"
    },
    {
     "data": {
      "text/plain": [
       "<matplotlib.legend.Legend at 0x18512ef70>"
      ]
     },
     "execution_count": 10,
     "metadata": {},
     "output_type": "execute_result"
    },
    {
     "data": {
      "image/png": "[encoded data removed]",
      "text/plain": [
       "<Figure size 720x360 with 2 Axes>"
      ]
     },
     "metadata": {
      "needs_background": "light"
     },
     "output_type": "display_data"
    }
   ],
   "source": [
    "# extract accuracy of model\n",
    "model2_score_train = model2.score(X_train, y_train)\n",
    "model2_score_test = model2.score(X_test, y_test)\n",
    "# get predictions\n",
    "y_pred = model2.predict(X_test)\n",
    "print(model2_score_train)\n",
    "print(model2_score_test)\n",
    "# print out the best penalty\n",
    "print(model2.C_)\n",
    "# output confusion matrix\n",
    "confusion_mat = pd.crosstab(\n",
    "    y_test.flatten(), \n",
    "    y_pred.flatten(), \n",
    "    rownames=['Actual Class'], \n",
    "    colnames=['Predicted Class'],\n",
    "    )\n",
    "display(confusion_mat)\n",
    "# get predicted probabilities to make roc curve\n",
    "pred_proba = model2.predict_proba(X_test)\n",
    "# calculate precision recall\n",
    "precision, recall, _ = precision_recall_curve(y_test, pred_proba[:,1])\n",
    "# calculate true and false positives\n",
    "fpr, tpr, _ = roc_curve(y_test, pred_proba[:,1])\n",
    "\n",
    "lab = 'Overall AUPRC=%.4f' % (auc(recall, precision))\n",
    "lab2 = 'Overall AUC=%.4f' % (roc_auc_score(y_test, pred_proba[:,1]))\n",
    "\n",
    "# make plots\n",
    "f, axes = plt.subplots(1, 2, figsize=(10, 5))\n",
    "axes[1].step(recall, precision, lw=2,label=lab, color='black')\n",
    "axes[1].set_xlabel('Recall')\n",
    "axes[1].set_ylabel('Precision')\n",
    "axes[1].legend(loc='lower left', fontsize='small')\n",
    "axes[0].step(fpr, tpr, label=lab2, lw=2, color='black')\n",
    "axes[0].set_xlabel('FPR')\n",
    "axes[0].set_ylabel('TPR')\n",
    "axes[0].legend(loc='lower left', fontsize='small')\n",
    "\n"
   ]
  },
  {
   "cell_type": "code",
   "execution_count": 12,
   "id": "c952b94e-4d70-45a7-a6ed-1a077b9e2833",
   "metadata": {},
   "outputs": [],
   "source": [
    "# do random forest to get feature importance\n",
    "clf = RandomForestClassifier(random_state=0, n_jobs=-1)\n",
    "# exclude the clone size this time cause we want feature importance of genes only\n",
    "integrated_data_scaled_log_transformed = integrated_data_scaled_log.T\n",
    "integrated_data_scaled_log_transformed = integrated_data_scaled_log_transformed.drop(columns=['Clone.size'])\n",
    "# fit random forest\n",
    "model = clf.fit(integrated_data_scaled_log_transformed, isMatching_np)"
   ]
  },
  {
   "cell_type": "code",
   "execution_count": 43,
   "id": "feb0cf41-f2b9-450e-be3d-a76c5c26e819",
   "metadata": {},
   "outputs": [
    {
     "name": "stdout",
     "output_type": "stream",
     "text": [
      "        feature  importance\n",
      "11975   Trav16n    0.003811\n",
      "4904     Trbv29    0.003651\n",
      "7577      Itgb1    0.001828\n",
      "5958    Gramd1a    0.001698\n",
      "13942      Ier3    0.001475\n",
      "5115     Tmsb10    0.001418\n",
      "4444     Vps37b    0.001372\n",
      "2417      Rps27    0.001320\n",
      "4656       Actb    0.001308\n",
      "15633    Tmsb4x    0.001303\n",
      "11951  Trav8d-2    0.001281\n",
      "11391    Ctla2a    0.001252\n",
      "9885       Ccl5    0.001238\n",
      "5953      Fxyd5    0.001178\n",
      "14007  Hsp90ab1    0.001124\n",
      "11980   Trav7-3    0.001076\n",
      "14110     Rpl36    0.001022\n",
      "3530      Rpl11    0.000974\n",
      "10622     Rps29    0.000918\n",
      "8365      Eomes    0.000917\n"
     ]
    },
    {
     "name": "stderr",
     "output_type": "stream",
     "text": [
      "/var/folders/76/q9rw3hvd5b76kvy0p8ymldw00000gn/T/ipykernel_42525/2224648881.py:13: UserWarning: FixedFormatter should only be used together with FixedLocator\n",
      "  axe.set_xticklabels(importance_names_sorted_top20['feature'],rotation=70)\n"
     ]
    },
    {
     "data": {
      "image/png": "[encoded data removed]",
      "text/plain": [
       "<Figure size 432x576 with 1 Axes>"
      ]
     },
     "metadata": {
      "needs_background": "light"
     },
     "output_type": "display_data"
    }
   ],
   "source": [
    "# get feature importance\n",
    "\n",
    "importances = model.feature_importances_\n",
    "importance_names = pd.DataFrame({'feature':integrated_data_scaled_log_transformed.columns.values.tolist(),'importance':importances})\n",
    "# sort matrix by importance\n",
    "importance_names_sorted = importance_names.sort_values(by=['importance'],ascending=False)\n",
    "importance_names_sorted_top20 = importance_names_sorted.head(20)\n",
    "# print top 20 genes\n",
    "print(importance_names_sorted_top20)\n",
    "# make feature importance plots.\n",
    "f, axe = plt.subplots(1, 1, figsize=(6, 8))\n",
    "axe.bar(importance_names_sorted_top20['feature'], importance_names_sorted_top20['importance'])\n",
    "axe.set_xlabel(\"Gene\")\n",
    "axe.set_ylabel(\"Importance\")\n",
    "axe.set_xticklabels(importance_names_sorted_top20['feature'],rotation=70)\n",
    "f.savefig('feature_importance.pdf')"
   ]
  },
  {
   "cell_type": "code",
   "execution_count": null,
   "id": "dac04bac-883b-414c-a276-805c7aa59049",
   "metadata": {},
   "outputs": [],
   "source": []
  },
  {
   "cell_type": "code",
   "execution_count": null,
   "id": "67ce954e-39e8-4801-b7b3-322c20345aa4",
   "metadata": {},
   "outputs": [],
   "source": []
  }
 ],
 "metadata": {
  "kernelspec": {
   "display_name": "Python 3",
   "language": "python",
   "name": "python3"
  },
  "language_info": {
   "codemirror_mode": {
    "name": "ipython",
    "version": 3
   },
   "file_extension": ".py",
   "mimetype": "text/x-python",
   "name": "python",
   "nbconvert_exporter": "python",
   "pygments_lexer": "ipython3",
   "version": "3.8.8"
  }
 },
 "nbformat": 4,
 "nbformat_minor": 5
}
